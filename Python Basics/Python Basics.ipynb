{
 "cells": [
  {
   "cell_type": "code",
   "execution_count": 75,
   "metadata": {},
   "outputs": [
    {
     "data": {
      "text/plain": [
       "2401"
      ]
     },
     "execution_count": 75,
     "metadata": {},
     "output_type": "execute_result"
    }
   ],
   "source": [
    "#What is 7 to the power of 4?\n",
    "7**4"
   ]
  },
  {
   "cell_type": "code",
   "execution_count": 76,
   "metadata": {},
   "outputs": [
    {
     "data": {
      "text/plain": [
       "['Hi', 'there', 'Sam!']"
      ]
     },
     "execution_count": 76,
     "metadata": {},
     "output_type": "execute_result"
    }
   ],
   "source": [
    "\"\"\"\n",
    "Split this string:\n",
    "\n",
    "s = \"Hi there Sam!\"\n",
    "\n",
    "into a list. \n",
    "\"\"\"\n",
    "s = \"Hi there Sam!\"\n",
    "s.split()"
   ]
  },
  {
   "cell_type": "code",
   "execution_count": 77,
   "metadata": {},
   "outputs": [
    {
     "name": "stdout",
     "output_type": "stream",
     "text": [
      "The diameter of Earth is 12742 kilometers.\n"
     ]
    }
   ],
   "source": [
    "\"\"\"\n",
    "Given the variables:\n",
    "\n",
    "planet = \"Earth\"\n",
    "diameter = 12742\n",
    " Use .format() to print the following string: \n",
    "\n",
    "The diameter of Earth is 12742 kilometers.\n",
    "\"\"\"\n",
    "planet = \"Earth\"\n",
    "diameter = 12742\n",
    "print(\"The diameter of {} is {} kilometers.\" .format(planet,diameter))"
   ]
  },
  {
   "cell_type": "code",
   "execution_count": 91,
   "metadata": {},
   "outputs": [
    {
     "data": {
      "text/plain": [
       "'hello'"
      ]
     },
     "execution_count": 91,
     "metadata": {},
     "output_type": "execute_result"
    }
   ],
   "source": [
    "\"\"\"\n",
    "Given this nested list, use indexing to grab the word \"hello\" \n",
    "lst = [1,2,[3,4],[5,[100,200,['hello']],23,11],1,7]\n",
    "\"\"\"\n",
    "list1 = [1,2,[3,4],[5,[100,200,['hello']],23,11],1,7]\n",
    "list1[3][1][2][0]"
   ]
  },
  {
   "cell_type": "code",
   "execution_count": 79,
   "metadata": {},
   "outputs": [
    {
     "data": {
      "text/plain": [
       "'hello'"
      ]
     },
     "execution_count": 79,
     "metadata": {},
     "output_type": "execute_result"
    }
   ],
   "source": [
    "\"\"\"\n",
    "Given this nest dictionary grab the word \"hello\". Be prepared, this will be annoying/tricky \n",
    "d = {'k1':[1,2,3,{'tricky':['oh','man','inception',{'target':[1,2,3,'hello']}]}]}\n",
    "\"\"\"\n",
    "d = {'k1':[1,2,3,{'tricky':['oh','man','inception',{'target':[1,2,3,'hello']}]}]}\n",
    "d['k1'][3]['tricky'][3]['target'][3]"
   ]
  },
  {
   "cell_type": "code",
   "execution_count": 17,
   "metadata": {},
   "outputs": [
    {
     "data": {
      "text/plain": [
       "'\\nWhat is the main difference between a tuple and a list? \\n'"
      ]
     },
     "execution_count": 17,
     "metadata": {},
     "output_type": "execute_result"
    }
   ],
   "source": [
    "\"\"\"\n",
    "What is the main difference between a tuple and a list? \n",
    "\"\"\"\n",
    "# Tuple is immutable"
   ]
  },
  {
   "cell_type": "code",
   "execution_count": 80,
   "metadata": {},
   "outputs": [
    {
     "name": "stdout",
     "output_type": "stream",
     "text": [
      "domain.com\n"
     ]
    }
   ],
   "source": [
    "\"\"\"\n",
    "Create a function that grabs the email website domain from a string in the form: \n",
    "\n",
    "user@domain.com\n",
    "\n",
    "So for example, passing \"user@domain.com\" would return: domain.com\n",
    "\"\"\"\n",
    "\n",
    "def grabEmailDomain(email):\n",
    "    print(email.split('@')[1])\n",
    "\n",
    "grabEmailDomain(\"user@domain.com\")"
   ]
  },
  {
   "cell_type": "code",
   "execution_count": 81,
   "metadata": {},
   "outputs": [
    {
     "data": {
      "text/plain": [
       "True"
      ]
     },
     "execution_count": 81,
     "metadata": {},
     "output_type": "execute_result"
    }
   ],
   "source": [
    "\"\"\"\n",
    "Create a basic function that returns True if the word 'dog' is\n",
    "contained in the input string. Don't worry about edge cases like a\n",
    "punctuation being attached to the word dog, but do account for capitalization.\n",
    "\n",
    "\"Is there a dog here?\"\n",
    "\"Is there a cat here?\"\n",
    "\"Is there a DOG here?\"\n",
    "\"\"\"\n",
    "def containsDog(text):\n",
    "    if \"dog\" in text.lower():\n",
    "        return True\n",
    "    else:\n",
    "        return False\n",
    "\n",
    "containsDog(\"Is there a dog here?\")\n",
    "containsDog(\"Is there a cat here?\")\n",
    "containsDog(\"Is there a DOG here?\")\n"
   ]
  },
  {
   "cell_type": "code",
   "execution_count": 82,
   "metadata": {},
   "outputs": [
    {
     "name": "stdout",
     "output_type": "stream",
     "text": [
      "2\n",
      "1\n",
      "0\n",
      "3\n"
     ]
    }
   ],
   "source": [
    "\"\"\"\n",
    "Create a function that counts the number of times the word \"dog\" occurs in a string. Again ignore edge cases. \n",
    "\n",
    "This dog runs faster than the other dog dude!\n",
    "There is only one dog in this sentence.\n",
    "There is just a cat here.\n",
    "I love my dog my dog is the best lonng live my dog\n",
    "\"\"\"\n",
    "\n",
    "def countDogInSentence(text):\n",
    "    words = text.lower().split()\n",
    "    print(words.count('dog'))\n",
    "\n",
    "countDogInSentence('This dog runs faster than the other dog dude!')\n",
    "countDogInSentence('There is only one dog in this sentence.')\n",
    "countDogInSentence('There is just a cat here.')\n",
    "countDogInSentence('I love my dog my dog is the best long live my dog')"
   ]
  },
  {
   "cell_type": "code",
   "execution_count": 99,
   "metadata": {},
   "outputs": [],
   "source": [
    "\"\"\"\n",
    "Use lambda expressions and the filter() function to filter out words from a list that don't start with the letter 's'.\n",
    "For example:\n",
    "\n",
    "seq = ['soup','dog','salad','cat','great']\n",
    "should be filtered down to:\n",
    "\n",
    "['soup','salad']\n",
    "\"\"\"\n",
    "seq = [\"soup\", \"dog\", \"salad\", \"cat\", \"great\"]\n",
    "list(filter(lambda word: word[0]=='s',seq))"
   ]
  },
  {
   "cell_type": "code",
   "execution_count": 105,
   "metadata": {},
   "outputs": [
    {
     "name": "stdout",
     "output_type": "stream",
     "text": [
      "Small Ticket\n",
      "Big Ticket\n",
      "No Ticket\n",
      "Small Ticket\n"
     ]
    }
   ],
   "source": [
    "\"\"\"\n",
    "You are driving a little too fast,\n",
    "and a police officer stops you. Write a function to return one of 3 possible results: \n",
    "\"No ticket\", \"Small ticket\", or \"Big Ticket\". If your speed is 60 or less, the result is \"No Ticket\".\n",
    "If speed is between 61 and 80 inclusive, the result is \"Small Ticket\". If speed is 81 or more, the result is\n",
    "\"Big Ticket\". Unless it is your birthday (encoded as a boolean value in the parameters of the function) \n",
    "-- on your birthday, your speed can be 5 higher in all cases. \n",
    "\"\"\"\n",
    "\n",
    "def speedCheck(speed, birthday):\n",
    "    if birthday:\n",
    "        newSpeed = speed - 5\n",
    "    else:\n",
    "        newSpeed = speed\n",
    "        \n",
    "    if newSpeed > 80:\n",
    "        print('Big Ticket')\n",
    "    elif newSpeed > 60:\n",
    "        print('Small Ticket')\n",
    "    else:\n",
    "        print('No Ticket')\n",
    "        \n",
    "speedCheck(81, True)\n",
    "speedCheck(81, False)\n",
    "speedCheck(65, True)\n",
    "speedCheck(65, False)"
   ]
  },
  {
   "cell_type": "code",
   "execution_count": null,
   "metadata": {},
   "outputs": [],
   "source": []
  }
 ],
 "metadata": {
  "kernelspec": {
   "display_name": "Python 3",
   "language": "python",
   "name": "python3"
  },
  "language_info": {
   "codemirror_mode": {
    "name": "ipython",
    "version": 3
   },
   "file_extension": ".py",
   "mimetype": "text/x-python",
   "name": "python",
   "nbconvert_exporter": "python",
   "pygments_lexer": "ipython3",
   "version": "3.7.4"
  }
 },
 "nbformat": 4,
 "nbformat_minor": 2
}
