{
 "cells": [
  {
   "cell_type": "code",
   "execution_count": 3,
   "metadata": {},
   "outputs": [],
   "source": [
    "##Harish Tayyar Madabushi - UoB Artifical Intelligence 1\n",
    "import sys\n",
    "import math\n",
    "import numpy as np\n",
    "import matplotlib\n",
    "matplotlib.use('TkAgg')\n",
    "import matplotlib.pyplot as plt"
   ]
  },
  {
   "cell_type": "code",
   "execution_count": 4,
   "metadata": {},
   "outputs": [],
   "source": [
    "def sigmoid(x):\n",
    "    return 1 / (1 + math.exp(-x))"
   ]
  },
  {
   "cell_type": "code",
   "execution_count": 5,
   "metadata": {},
   "outputs": [
    {
     "data": {
      "text/plain": [
       "([3.1, 3.3, 1], [3.6, 3.8, 1], [3.8, 2.1, 1], [3.5, 2.2, 1], [3.25, 2.8, 1])"
      ]
     },
     "execution_count": 5,
     "metadata": {},
     "output_type": "execute_result"
    }
   ],
   "source": [
    "##value of x1, value of x2, value of output class\n",
    "data = [1, 1, 0], [2, 2, 0], [0.3, 1.2, 0], [0.6, 0.8, 0], [1.2, 1, 0], [1.3, 1, 0], [1.8, 2, 0], [1.5, 1.4, 0], [3, 3, 1], [4, 4/3, 1],\n",
    "[3.1, 3.3, 1], [3.6, 3.8, 1], [3.8, 2.1, 1], [3.5, 2.2, 1], [3.25, 2.8, 1]"
   ]
  },
  {
   "cell_type": "code",
   "execution_count": 6,
   "metadata": {},
   "outputs": [],
   "source": [
    "##x1a contains all the values of x1 in a list, x2a of x2 and ya of y\n",
    "x1a = [i[0] for i in data]\n",
    "x2a = [i[1] for i in data]\n",
    "ya = [i[2] for i in data]"
   ]
  },
  {
   "cell_type": "code",
   "execution_count": 7,
   "metadata": {},
   "outputs": [],
   "source": [
    "##Used for graphing\n",
    "x = np.linspace(min(x1a), max(x1a))"
   ]
  },
  {
   "cell_type": "code",
   "execution_count": 8,
   "metadata": {},
   "outputs": [],
   "source": [
    "w0 = 0\n",
    "w1 = 0\n",
    "w2 = 0\n",
    "alpha = 0.1"
   ]
  },
  {
   "cell_type": "code",
   "execution_count": 9,
   "metadata": {},
   "outputs": [],
   "source": [
    "epochs = 1000"
   ]
  },
  {
   "cell_type": "code",
   "execution_count": null,
   "metadata": {},
   "outputs": [
    {
     "name": "stderr",
     "output_type": "stream",
     "text": [
      "/Users/defneaksunger/opt/anaconda3/lib/python3.7/site-packages/ipykernel_launcher.py:6: RuntimeWarning: invalid value encountered in true_divide\n",
      "  \n"
     ]
    }
   ],
   "source": [
    "for i in range(epochs):\n",
    "    ##Display current fit\n",
    "    plt.clf()\n",
    "    plt.scatter(x1a, x2a)\n",
    "    \n",
    "    plt.plot(x, ((-w1*x - w0) / w2))\n",
    "    \n",
    "    plt.ion()\n",
    "    plt.show()\n",
    "    plt.pause(0.001)\n",
    "    ##Chart creation - displayed for 0.001"
   ]
  },
  {
   "cell_type": "code",
   "execution_count": null,
   "metadata": {},
   "outputs": [],
   "source": [
    "cost = 0\n",
    "for index in range(len(x1a)):\n",
    "    \n",
    "    ##what I actually predicted\n",
    "    y_this = sigmoid(w2 * x2a[index] + w1 * x1a[index] + w0)\n",
    "    ##what it should be\n",
    "    cost += -1 * (ya[index] * math.log(y_this) + (1 - ya[index]) * (math.log(1 - y_this)))\n",
    "    \n",
    "    w2 += alpha * (ya[index] - y_this) * x2a[index]\n",
    "    w1 += alpha * (ya[index] - y_this) * x1a[index]\n",
    "    w0 += alpha * (ya[index] - y_this)"
   ]
  },
  {
   "cell_type": "code",
   "execution_count": null,
   "metadata": {},
   "outputs": [],
   "source": [
    "print(\"Cost, w0, w1, w2:\", float(cost) / len(x1a), w0, w1, w2)"
   ]
  },
  {
   "cell_type": "code",
   "execution_count": null,
   "metadata": {},
   "outputs": [],
   "source": []
  },
  {
   "cell_type": "code",
   "execution_count": null,
   "metadata": {},
   "outputs": [],
   "source": []
  },
  {
   "cell_type": "code",
   "execution_count": null,
   "metadata": {},
   "outputs": [],
   "source": []
  }
 ],
 "metadata": {
  "kernelspec": {
   "display_name": "Python 3",
   "language": "python",
   "name": "python3"
  },
  "language_info": {
   "codemirror_mode": {
    "name": "ipython",
    "version": 3
   },
   "file_extension": ".py",
   "mimetype": "text/x-python",
   "name": "python",
   "nbconvert_exporter": "python",
   "pygments_lexer": "ipython3",
   "version": "3.7.4"
  }
 },
 "nbformat": 4,
 "nbformat_minor": 2
}
