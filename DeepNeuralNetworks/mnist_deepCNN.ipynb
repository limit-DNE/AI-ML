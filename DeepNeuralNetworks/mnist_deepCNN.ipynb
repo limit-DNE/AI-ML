{
 "cells": [
  {
   "cell_type": "markdown",
   "metadata": {
    "id": "dfHaAhSk8-99"
   },
   "source": [
    "code derived/modified from section 6.3 of 'Introduction to Deep Learning' by Sandro Skansi and\n",
    "https://www.analyticsvidhya.com/blog/2020/02/learn-image-classification-cnn-convolutional-neural-networks-3-datasets/"
   ]
  },
  {
   "cell_type": "markdown",
   "metadata": {
    "id": "S5XZvFWKGKqT"
   },
   "source": [
    "**Load requires libraries**"
   ]
  },
  {
   "cell_type": "code",
   "execution_count": 1,
   "metadata": {
    "colab": {
     "base_uri": "https://localhost:8080/"
    },
    "id": "czTJe8ELwoiO",
    "outputId": "8c974d1b-56a1-4ebe-bd64-db9fa4c4d03a"
   },
   "outputs": [
    {
     "name": "stdout",
     "output_type": "stream",
     "text": [
      "Downloading data from https://storage.googleapis.com/tensorflow/tf-keras-datasets/mnist.npz\n",
      "11493376/11490434 [==============================] - 0s 0us/step\n"
     ]
    }
   ],
   "source": [
    "import numpy as np\n",
    "from keras.models import Sequential\n",
    "from keras.layers import Dense, Dropout, Activation, Flatten\n",
    "from keras.layers import Convolution2D, MaxPooling2D\n",
    "from keras.utils import np_utils\n",
    "from keras.datasets import mnist\n",
    "(train_samples, train_labels), (test_samples, test_labels) = mnist.load_data()"
   ]
  },
  {
   "cell_type": "markdown",
   "metadata": {
    "id": "i2v0wbvvGSZU"
   },
   "source": [
    "**Load data and set it up into training & testing splits**"
   ]
  },
  {
   "cell_type": "code",
   "execution_count": 2,
   "metadata": {
    "id": "C8Gi2Fo10bV9"
   },
   "outputs": [],
   "source": [
    "train_samples = train_samples.reshape(train_samples.shape [0], 28, 28, 1) # each digit is represented as a 28x28 image\n",
    "test_samples = test_samples.reshape(test_samples.shape [0], 28, 28, 1)\n",
    "train_samples = train_samples.astype('float32')\n",
    "test_samples = test_samples.astype('float32')\n",
    "train_samples = train_samples/255\n",
    "test_samples = test_samples/255\n",
    "\n",
    "c_train_labels = np_utils.to_categorical(train_labels, 10) # labels in one-hot encoding format\n",
    "c_test_labels = np_utils.to_categorical(test_labels, 10)"
   ]
  },
  {
   "cell_type": "markdown",
   "metadata": {
    "id": "010I1zTOJaai"
   },
   "source": [
    "**Find out the size/dimensions of training and testing splits**"
   ]
  },
  {
   "cell_type": "code",
   "execution_count": 3,
   "metadata": {
    "colab": {
     "base_uri": "https://localhost:8080/"
    },
    "id": "J55m2yN-JaB2",
    "outputId": "67df1cfe-1511-4977-c0da-6b1b73774754"
   },
   "outputs": [
    {
     "name": "stdout",
     "output_type": "stream",
     "text": [
      "(60000, 28, 28, 1)\n",
      "(10000, 28, 28, 1)\n",
      "(60000, 10)\n",
      "(10000, 10)\n",
      "[0. 0. 1. 0. 0. 0. 0. 0. 0. 0.]\n"
     ]
    }
   ],
   "source": [
    "print(train_samples.shape) # 60,000 samples, each sample in 28x28x1 dimension image i.e. it's grayscale (and not colour image)\n",
    "print(test_samples.shape)\n",
    "print(c_train_labels.shape)\n",
    "print(c_test_labels.shape)\n",
    "print(c_test_labels[1,]) # prints label for one test sample to give us an idea of how labels are represented in one-hot encoding format"
   ]
  },
  {
   "cell_type": "markdown",
   "metadata": {
    "id": "JUYFdNkBGod3"
   },
   "source": [
    "**Create an empty neural network and add layers to it**"
   ]
  },
  {
   "cell_type": "code",
   "execution_count": 4,
   "metadata": {
    "id": "rbojYesfww6u"
   },
   "outputs": [],
   "source": [
    "convnet = Sequential() # empty network\n",
    "\n",
    "# gets 98% or above accuracy on testing data with 20 epochs and mini-batch size of 128\n",
    "convnet.add(Convolution2D(25, 3, 3, activation='relu', padding='valid')) # convlution layer with 25 filters, each size 3x3\n",
    "convnet.add(Flatten())\n",
    "convnet.add(Dense(100, activation='relu')) # fully connected hidden layer\n",
    "convnet.add(Dense(10, activation='softmax')) # output layer"
   ]
  },
  {
   "cell_type": "markdown",
   "metadata": {
    "id": "WiUh7lwXG9Eo"
   },
   "source": [
    "**Set required parameters (loss, optimiser, accuracy metric)**"
   ]
  },
  {
   "cell_type": "code",
   "execution_count": 10,
   "metadata": {
    "id": "BR0Ogngswz1L"
   },
   "outputs": [],
   "source": [
    "#convnet.compile(loss='mean_squared_error', optimizer='sgd', metrics=['accuracy'])\n",
    "convnet.compile(loss='categorical_crossentropy', optimizer='adam', metrics=['accuracy']) # try alternate loss function & optimiser"
   ]
  },
  {
   "cell_type": "markdown",
   "metadata": {
    "id": "HKyGOCDLHEuR"
   },
   "source": [
    "**Train network (i.e. perform learning from training data)**\n",
    "\n",
    "(specify mini-batch size and number of epochs)"
   ]
  },
  {
   "cell_type": "code",
   "execution_count": 11,
   "metadata": {
    "colab": {
     "base_uri": "https://localhost:8080/"
    },
    "id": "XBNUgFRzw24h",
    "outputId": "ddd800f4-e5ab-4d4a-a18f-064f6f0b013f"
   },
   "outputs": [
    {
     "name": "stdout",
     "output_type": "stream",
     "text": [
      "Epoch 1/20\n",
      "469/469 [==============================] - 5s 10ms/step - loss: 0.1216 - accuracy: 0.9628\n",
      "Epoch 2/20\n",
      "469/469 [==============================] - 5s 10ms/step - loss: 0.0816 - accuracy: 0.9757\n",
      "Epoch 3/20\n",
      "469/469 [==============================] - 5s 10ms/step - loss: 0.0584 - accuracy: 0.9828\n",
      "Epoch 4/20\n",
      "469/469 [==============================] - 5s 10ms/step - loss: 0.0474 - accuracy: 0.9856\n",
      "Epoch 5/20\n",
      "469/469 [==============================] - 5s 10ms/step - loss: 0.0366 - accuracy: 0.9893\n",
      "Epoch 6/20\n",
      "469/469 [==============================] - 5s 10ms/step - loss: 0.0297 - accuracy: 0.9912\n",
      "Epoch 7/20\n",
      "469/469 [==============================] - 5s 10ms/step - loss: 0.0219 - accuracy: 0.9931\n",
      "Epoch 8/20\n",
      "469/469 [==============================] - 5s 10ms/step - loss: 0.0188 - accuracy: 0.9946\n",
      "Epoch 9/20\n",
      "469/469 [==============================] - 5s 10ms/step - loss: 0.0154 - accuracy: 0.9953\n",
      "Epoch 10/20\n",
      "469/469 [==============================] - 5s 10ms/step - loss: 0.0142 - accuracy: 0.9958\n",
      "Epoch 11/20\n",
      "469/469 [==============================] - 5s 10ms/step - loss: 0.0113 - accuracy: 0.9968\n",
      "Epoch 12/20\n",
      "469/469 [==============================] - 5s 10ms/step - loss: 0.0080 - accuracy: 0.9979\n",
      "Epoch 13/20\n",
      "469/469 [==============================] - 5s 10ms/step - loss: 0.0085 - accuracy: 0.9976\n",
      "Epoch 14/20\n",
      "469/469 [==============================] - 5s 10ms/step - loss: 0.0061 - accuracy: 0.9984\n",
      "Epoch 15/20\n",
      "469/469 [==============================] - 5s 10ms/step - loss: 0.0068 - accuracy: 0.9979\n",
      "Epoch 16/20\n",
      "469/469 [==============================] - 5s 10ms/step - loss: 0.0042 - accuracy: 0.9991\n",
      "Epoch 17/20\n",
      "469/469 [==============================] - 5s 10ms/step - loss: 0.0051 - accuracy: 0.9987\n",
      "Epoch 18/20\n",
      "469/469 [==============================] - 5s 10ms/step - loss: 0.0036 - accuracy: 0.9991\n",
      "Epoch 19/20\n",
      "469/469 [==============================] - 5s 10ms/step - loss: 0.0057 - accuracy: 0.9983\n",
      "Epoch 20/20\n",
      "469/469 [==============================] - 5s 10ms/step - loss: 0.0041 - accuracy: 0.9989\n"
     ]
    },
    {
     "data": {
      "text/plain": [
       "<tensorflow.python.keras.callbacks.History at 0x7fcc16caac90>"
      ]
     },
     "execution_count": 11,
     "metadata": {
      "tags": []
     },
     "output_type": "execute_result"
    }
   ],
   "source": [
    "convnet.fit(train_samples, c_train_labels, batch_size=128, epochs=20, verbose=1)"
   ]
  },
  {
   "cell_type": "markdown",
   "metadata": {
    "id": "qZUioh8WHf3I"
   },
   "source": [
    "**Utilise trained network/model to make predictions about testing data and conduct evaluation**"
   ]
  },
  {
   "cell_type": "code",
   "execution_count": 12,
   "metadata": {
    "colab": {
     "base_uri": "https://localhost:8080/"
    },
    "id": "yUrHJEoYw41e",
    "outputId": "68de4a29-ec82-4c2f-a768-9620b4afb35b"
   },
   "outputs": [
    {
     "name": "stdout",
     "output_type": "stream",
     "text": [
      "313/313 [==============================] - 1s 2ms/step - loss: 0.0698 - accuracy: 0.9825\n",
      "\n",
      "accuracy: 98.25%\n"
     ]
    }
   ],
   "source": [
    "metrics = convnet.evaluate(test_samples, c_test_labels, verbose=1)\n",
    "print()\n",
    "print(\"%s: %.2f%%\" % (convnet.metrics_names[1], metrics[1]*100))"
   ]
  },
  {
   "cell_type": "markdown",
   "metadata": {
    "id": "mI_5sUqA5z7I"
   },
   "source": [
    "**Print and observe network predictions against actual target values**"
   ]
  },
  {
   "cell_type": "code",
   "execution_count": 13,
   "metadata": {
    "id": "blgA7Vqdksl7"
   },
   "outputs": [],
   "source": [
    "predictions = convnet.predict(test_samples) # raw network predictions"
   ]
  },
  {
   "cell_type": "code",
   "execution_count": 14,
   "metadata": {
    "colab": {
     "base_uri": "https://localhost:8080/"
    },
    "id": "pExtCcFYw6Dj",
    "outputId": "a986f5c6-66a6-4f6c-8a82-fd6097bb12fc"
   },
   "outputs": [
    {
     "name": "stdout",
     "output_type": "stream",
     "text": [
      "[0. 0. 0. 0. 0. 0. 1. 0. 0. 0.] [1.6743588e-08 2.3836468e-11 1.5365907e-10 3.4680220e-10 7.6226511e-15\n",
      " 4.2004308e-10 1.0000000e+00 3.0282728e-11 5.6916438e-10 2.7087721e-13]\n",
      "1.000000018287654\n"
     ]
    }
   ],
   "source": [
    "n=100\n",
    "print(c_test_labels[n], predictions[n]) # print actual sample label (one-hot encoding format and network prediction in probablity estimate format) for a selected sample\n",
    "print(sum(predictions[n])) # the sum of all 10 probabilities for each sample should add up to 1"
   ]
  }
 ],
 "metadata": {
  "colab": {
   "collapsed_sections": [],
   "name": "mnist_deepCNN.ipynb",
   "provenance": []
  },
  "kernelspec": {
   "display_name": "Python 3 (ipykernel)",
   "language": "python",
   "name": "python3"
  },
  "language_info": {
   "codemirror_mode": {
    "name": "ipython",
    "version": 3
   },
   "file_extension": ".py",
   "mimetype": "text/x-python",
   "name": "python",
   "nbconvert_exporter": "python",
   "pygments_lexer": "ipython3",
   "version": "3.9.10"
  }
 },
 "nbformat": 4,
 "nbformat_minor": 1
}
